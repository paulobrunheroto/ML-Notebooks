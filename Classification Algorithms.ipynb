{
 "cells": [
  {
   "cell_type": "markdown",
   "id": "26c8286d",
   "metadata": {},
   "source": [
    "# Classification algorithms"
   ]
  },
  {
   "cell_type": "code",
   "execution_count": 2,
   "id": "95a6bc34",
   "metadata": {},
   "outputs": [],
   "source": [
    "import pandas as pd"
   ]
  },
  {
   "cell_type": "code",
   "execution_count": 3,
   "id": "50703ea7",
   "metadata": {},
   "outputs": [
    {
     "data": {
      "text/html": [
       "<div>\n",
       "<style scoped>\n",
       "    .dataframe tbody tr th:only-of-type {\n",
       "        vertical-align: middle;\n",
       "    }\n",
       "\n",
       "    .dataframe tbody tr th {\n",
       "        vertical-align: top;\n",
       "    }\n",
       "\n",
       "    .dataframe thead th {\n",
       "        text-align: right;\n",
       "    }\n",
       "</style>\n",
       "<table border=\"1\" class=\"dataframe\">\n",
       "  <thead>\n",
       "    <tr style=\"text-align: right;\">\n",
       "      <th></th>\n",
       "      <th>0</th>\n",
       "      <th>1</th>\n",
       "      <th>2</th>\n",
       "      <th>3</th>\n",
       "      <th>4</th>\n",
       "      <th>5</th>\n",
       "      <th>6</th>\n",
       "      <th>7</th>\n",
       "      <th>8</th>\n",
       "      <th>9</th>\n",
       "      <th>target</th>\n",
       "    </tr>\n",
       "  </thead>\n",
       "  <tbody>\n",
       "    <tr>\n",
       "      <th>0</th>\n",
       "      <td>5.957317</td>\n",
       "      <td>-2.194385</td>\n",
       "      <td>-1.450285</td>\n",
       "      <td>-0.167148</td>\n",
       "      <td>-0.694979</td>\n",
       "      <td>-0.383369</td>\n",
       "      <td>1.456618</td>\n",
       "      <td>0.103518</td>\n",
       "      <td>0.583459</td>\n",
       "      <td>0.439535</td>\n",
       "      <td>0</td>\n",
       "    </tr>\n",
       "    <tr>\n",
       "      <th>1</th>\n",
       "      <td>7.939563</td>\n",
       "      <td>0.090557</td>\n",
       "      <td>0.441206</td>\n",
       "      <td>-0.930053</td>\n",
       "      <td>-0.375203</td>\n",
       "      <td>0.302911</td>\n",
       "      <td>-0.491021</td>\n",
       "      <td>0.222821</td>\n",
       "      <td>0.333514</td>\n",
       "      <td>0.159313</td>\n",
       "      <td>0</td>\n",
       "    </tr>\n",
       "    <tr>\n",
       "      <th>2</th>\n",
       "      <td>6.970815</td>\n",
       "      <td>-2.199521</td>\n",
       "      <td>-0.032964</td>\n",
       "      <td>-2.348542</td>\n",
       "      <td>0.884256</td>\n",
       "      <td>-0.283119</td>\n",
       "      <td>-0.102020</td>\n",
       "      <td>0.017021</td>\n",
       "      <td>0.585696</td>\n",
       "      <td>-0.301648</td>\n",
       "      <td>0</td>\n",
       "    </tr>\n",
       "    <tr>\n",
       "      <th>3</th>\n",
       "      <td>1.593908</td>\n",
       "      <td>4.791936</td>\n",
       "      <td>0.057138</td>\n",
       "      <td>-1.166422</td>\n",
       "      <td>-0.316182</td>\n",
       "      <td>0.360219</td>\n",
       "      <td>0.152939</td>\n",
       "      <td>-0.034419</td>\n",
       "      <td>0.303600</td>\n",
       "      <td>-0.048691</td>\n",
       "      <td>0</td>\n",
       "    </tr>\n",
       "    <tr>\n",
       "      <th>4</th>\n",
       "      <td>4.770630</td>\n",
       "      <td>-0.386930</td>\n",
       "      <td>-0.959552</td>\n",
       "      <td>0.357948</td>\n",
       "      <td>-0.467621</td>\n",
       "      <td>-0.502110</td>\n",
       "      <td>0.353892</td>\n",
       "      <td>-0.149115</td>\n",
       "      <td>-0.027879</td>\n",
       "      <td>0.261603</td>\n",
       "      <td>0</td>\n",
       "    </tr>\n",
       "  </tbody>\n",
       "</table>\n",
       "</div>"
      ],
      "text/plain": [
       "          0         1         2         3         4         5         6  \\\n",
       "0  5.957317 -2.194385 -1.450285 -0.167148 -0.694979 -0.383369  1.456618   \n",
       "1  7.939563  0.090557  0.441206 -0.930053 -0.375203  0.302911 -0.491021   \n",
       "2  6.970815 -2.199521 -0.032964 -2.348542  0.884256 -0.283119 -0.102020   \n",
       "3  1.593908  4.791936  0.057138 -1.166422 -0.316182  0.360219  0.152939   \n",
       "4  4.770630 -0.386930 -0.959552  0.357948 -0.467621 -0.502110  0.353892   \n",
       "\n",
       "          7         8         9  target  \n",
       "0  0.103518  0.583459  0.439535       0  \n",
       "1  0.222821  0.333514  0.159313       0  \n",
       "2  0.017021  0.585696 -0.301648       0  \n",
       "3 -0.034419  0.303600 -0.048691       0  \n",
       "4 -0.149115 -0.027879  0.261603       0  "
      ]
     },
     "execution_count": 3,
     "metadata": {},
     "output_type": "execute_result"
    }
   ],
   "source": [
    "df = pd.read_csv('pca.csv')\n",
    "\n",
    "df.head()"
   ]
  },
  {
   "cell_type": "markdown",
   "id": "da13078a",
   "metadata": {},
   "source": [
    "## Data split"
   ]
  },
  {
   "cell_type": "code",
   "execution_count": 4,
   "id": "be4a5efd",
   "metadata": {},
   "outputs": [],
   "source": [
    "from sklearn.model_selection import train_test_split"
   ]
  },
  {
   "cell_type": "code",
   "execution_count": 6,
   "id": "9c267e96",
   "metadata": {},
   "outputs": [],
   "source": [
    "X = df.drop(columns = 'target')\n",
    "y = df['target']"
   ]
  },
  {
   "cell_type": "code",
   "execution_count": 7,
   "id": "69791f3b",
   "metadata": {},
   "outputs": [],
   "source": [
    "X_train, X_test, y_train, y_test = train_test_split(X, y, test_size=0.3, random_state=0)"
   ]
  },
  {
   "cell_type": "code",
   "execution_count": 8,
   "id": "a54703d8",
   "metadata": {},
   "outputs": [
    {
     "data": {
      "text/plain": [
       "1    226\n",
       "0     87\n",
       "Name: target, dtype: int64"
      ]
     },
     "execution_count": 8,
     "metadata": {},
     "output_type": "execute_result"
    }
   ],
   "source": [
    "y_train.value_counts()"
   ]
  },
  {
   "cell_type": "markdown",
   "id": "d07c0cb2",
   "metadata": {},
   "source": [
    "## Dataset balancing"
   ]
  },
  {
   "cell_type": "code",
   "execution_count": 9,
   "id": "72b21ddd",
   "metadata": {},
   "outputs": [],
   "source": [
    "from imblearn.over_sampling import SMOTE"
   ]
  },
  {
   "cell_type": "code",
   "execution_count": 10,
   "id": "22519002",
   "metadata": {},
   "outputs": [],
   "source": [
    "oversample = SMOTE()\n",
    "X_train, y_train = oversample.fit_resample(X_train, y_train)"
   ]
  },
  {
   "cell_type": "code",
   "execution_count": 11,
   "id": "fcd33171",
   "metadata": {},
   "outputs": [
    {
     "data": {
      "text/plain": [
       "0    226\n",
       "1    226\n",
       "Name: target, dtype: int64"
      ]
     },
     "execution_count": 11,
     "metadata": {},
     "output_type": "execute_result"
    }
   ],
   "source": [
    "y_train.value_counts()"
   ]
  },
  {
   "cell_type": "markdown",
   "id": "56ff96dc",
   "metadata": {},
   "source": [
    "## GridSearchCV"
   ]
  },
  {
   "cell_type": "code",
   "execution_count": 32,
   "id": "9284ddb4",
   "metadata": {},
   "outputs": [],
   "source": [
    "from sklearn.model_selection import GridSearchCV"
   ]
  },
  {
   "cell_type": "code",
   "execution_count": 47,
   "id": "77831d79",
   "metadata": {},
   "outputs": [],
   "source": [
    "def GridParam(x,y, model, parameters, scoring):\n",
    "    X_grid, Y_grid = x, y\n",
    "    try:\n",
    "        grid = GridSearchCV(model(random_state= 0), parameters, cv=10, scoring = scoring)\n",
    "    except:\n",
    "        grid = GridSearchCV(model(), parameters, cv=10, scoring = scoring)\n",
    "    grid.fit(X_grid, Y_grid)\n",
    "    \n",
    "    print(f'The parameters combination that would give best {scoring} are: ')\n",
    "    print(grid.best_params_)\n",
    "    print(f'The best {scoring} achieved: {grid.best_score_}')\n",
    "\n",
    "    return grid"
   ]
  },
  {
   "cell_type": "markdown",
   "id": "7839f71b",
   "metadata": {},
   "source": [
    "## Random Forest + GridSearchCV"
   ]
  },
  {
   "cell_type": "code",
   "execution_count": 37,
   "id": "f2655139",
   "metadata": {},
   "outputs": [],
   "source": [
    "from sklearn.ensemble import RandomForestClassifier"
   ]
  },
  {
   "cell_type": "code",
   "execution_count": 38,
   "id": "234b0364",
   "metadata": {},
   "outputs": [
    {
     "name": "stdout",
     "output_type": "stream",
     "text": [
      "The parameters combination that would give best recall are: \n",
      "{'max_depth': 3, 'max_features': 3, 'min_samples_leaf': 2}\n",
      "The best recall achieved: 0.9604743083003953\n"
     ]
    }
   ],
   "source": [
    "rfc_param = {'max_features':[3,5,7],'max_depth':[3,5,7], 'min_samples_leaf': [2,3] }\n",
    "grid = GridParam(X_train, y_train, RandomForestClassifier, rfc_param, 'recall')"
   ]
  },
  {
   "cell_type": "code",
   "execution_count": 39,
   "id": "0091b934",
   "metadata": {},
   "outputs": [],
   "source": [
    "rfc_best = RandomForestClassifier(max_features = grid.best_params_[\"max_features\"], max_depth = grid.best_params_[\"max_depth\"],\n",
    "                                  min_samples_leaf = grid.best_params_[\"min_samples_leaf\"], random_state = 0)"
   ]
  },
  {
   "cell_type": "code",
   "execution_count": 40,
   "id": "11a51dd7",
   "metadata": {},
   "outputs": [
    {
     "data": {
      "text/plain": [
       "RandomForestClassifier(max_depth=3, max_features=3, min_samples_leaf=2,\n",
       "                       random_state=0)"
      ]
     },
     "execution_count": 40,
     "metadata": {},
     "output_type": "execute_result"
    }
   ],
   "source": [
    "rfc_best.fit(X_train,y_train)"
   ]
  },
  {
   "cell_type": "markdown",
   "id": "38951a87",
   "metadata": {},
   "source": [
    "### Metrics"
   ]
  },
  {
   "cell_type": "code",
   "execution_count": 21,
   "id": "b5e467a7",
   "metadata": {},
   "outputs": [],
   "source": [
    "from sklearn.metrics import accuracy_score, confusion_matrix\n",
    "\n",
    "import seaborn as sns\n",
    "import matplotlib.pyplot as plt"
   ]
  },
  {
   "cell_type": "code",
   "execution_count": 23,
   "id": "56c37468",
   "metadata": {},
   "outputs": [
    {
     "name": "stdout",
     "output_type": "stream",
     "text": [
      "Accuracy: 0.9481481481481482\n"
     ]
    },
    {
     "data": {
      "text/plain": [
       "Text(0.5, 15.0, 'Predicted label')"
      ]
     },
     "execution_count": 23,
     "metadata": {},
     "output_type": "execute_result"
    },
    {
     "data": {
      "image/png": "[encoded data removed]",
      "text/plain": [
       "<Figure size 432x288 with 2 Axes>"
      ]
     },
     "metadata": {
      "needs_background": "light"
     },
     "output_type": "display_data"
    }
   ],
   "source": [
    "y_pred=rfc_best.predict(X_test)\n",
    "\n",
    "print(\"Accuracy:\",accuracy_score(y_test, y_pred))\n",
    "\n",
    "cf_Matrix = confusion_matrix(y_test, y_pred)\n",
    "\n",
    "sns.heatmap(cf_Matrix, annot=True, xticklabels = ['malignant', 'benign'], yticklabels = ['malignant' ,'benign'])\n",
    "plt.ylabel('True label')\n",
    "plt.xlabel('Predicted label')"
   ]
  },
  {
   "cell_type": "markdown",
   "id": "af336085",
   "metadata": {},
   "source": [
    "## Support Vector Machines (SVM)"
   ]
  },
  {
   "cell_type": "code",
   "execution_count": 24,
   "id": "f8aa7f3f",
   "metadata": {},
   "outputs": [],
   "source": [
    "from sklearn.svm import SVC"
   ]
  },
  {
   "cell_type": "code",
   "execution_count": 41,
   "id": "279f80ab",
   "metadata": {},
   "outputs": [
    {
     "name": "stdout",
     "output_type": "stream",
     "text": [
      "The parameters combination that would give best recall are: \n",
      "{'kernel': 'poly'}\n",
      "The best recall achieved: 0.9954545454545455\n"
     ]
    }
   ],
   "source": [
    "svc_param = {'kernel':['linear', 'poly', 'rbf', 'sigmoid']}\n",
    "grid = GridParam(X_train, y_train, SVC, svc_param, 'recall')"
   ]
  },
  {
   "cell_type": "code",
   "execution_count": 42,
   "id": "6dd8b9e4",
   "metadata": {},
   "outputs": [],
   "source": [
    "svm_best = SVC(kernel = grid.best_params_[\"kernel\"], random_state = 0)"
   ]
  },
  {
   "cell_type": "code",
   "execution_count": 43,
   "id": "ead26541",
   "metadata": {},
   "outputs": [
    {
     "data": {
      "text/plain": [
       "SVC(kernel='poly', random_state=0)"
      ]
     },
     "execution_count": 43,
     "metadata": {},
     "output_type": "execute_result"
    }
   ],
   "source": [
    "svm_best.fit(X_train,y_train)"
   ]
  },
  {
   "cell_type": "markdown",
   "id": "9ed7e3cc",
   "metadata": {},
   "source": [
    "### Metrics"
   ]
  },
  {
   "cell_type": "code",
   "execution_count": 30,
   "id": "7ec35813",
   "metadata": {},
   "outputs": [
    {
     "name": "stdout",
     "output_type": "stream",
     "text": [
      "Accuracy: 0.9259259259259259\n"
     ]
    },
    {
     "data": {
      "text/plain": [
       "Text(0.5, 15.0, 'Predicted label')"
      ]
     },
     "execution_count": 30,
     "metadata": {},
     "output_type": "execute_result"
    },
    {
     "data": {
      "image/png": "[encoded data removed]",
      "text/plain": [
       "<Figure size 432x288 with 2 Axes>"
      ]
     },
     "metadata": {
      "needs_background": "light"
     },
     "output_type": "display_data"
    }
   ],
   "source": [
    "y_pred=svm_best.predict(X_test)\n",
    "\n",
    "print(\"Accuracy:\",accuracy_score(y_test, y_pred))\n",
    "\n",
    "cf_Matrix = confusion_matrix(y_test, y_pred)\n",
    "\n",
    "sns.heatmap(cf_Matrix, annot=True, xticklabels = ['malignant', 'benign'], yticklabels = ['malignant' ,'benign'])\n",
    "plt.ylabel('True label')\n",
    "plt.xlabel('Predicted label')"
   ]
  },
  {
   "cell_type": "markdown",
   "id": "08536433",
   "metadata": {},
   "source": [
    "## K-Nearest Neighbors"
   ]
  },
  {
   "cell_type": "code",
   "execution_count": 48,
   "id": "5bfdd606",
   "metadata": {},
   "outputs": [],
   "source": [
    "from sklearn.neighbors import KNeighborsClassifier"
   ]
  },
  {
   "cell_type": "code",
   "execution_count": 49,
   "id": "56c47e27",
   "metadata": {},
   "outputs": [
    {
     "name": "stdout",
     "output_type": "stream",
     "text": [
      "The parameters combination that would give best recall are: \n",
      "{'metric': 'minkowski', 'n_neighbors': 5}\n",
      "The best recall achieved: 0.9648221343873518\n"
     ]
    }
   ],
   "source": [
    "knn_param = {'n_neighbors':[2,5,7,10], 'metric':['minkowski','manhattan','cosine']}\n",
    "grid = GridParam(X_train, y_train, KNeighborsClassifier, knn_param, 'recall')"
   ]
  },
  {
   "cell_type": "code",
   "execution_count": 51,
   "id": "9080f886",
   "metadata": {},
   "outputs": [],
   "source": [
    "knn_best = KNeighborsClassifier(n_neighbors = grid.best_params_[\"n_neighbors\"], metric = grid.best_params_[\"metric\"])"
   ]
  },
  {
   "cell_type": "code",
   "execution_count": 52,
   "id": "f61fe260",
   "metadata": {},
   "outputs": [
    {
     "data": {
      "text/plain": [
       "KNeighborsClassifier()"
      ]
     },
     "execution_count": 52,
     "metadata": {},
     "output_type": "execute_result"
    }
   ],
   "source": [
    "knn_best.fit(X_train,y_train)"
   ]
  },
  {
   "cell_type": "markdown",
   "id": "1b5844f4",
   "metadata": {},
   "source": [
    "### Metrics"
   ]
  },
  {
   "cell_type": "code",
   "execution_count": 54,
   "id": "f8b5748c",
   "metadata": {},
   "outputs": [
    {
     "name": "stdout",
     "output_type": "stream",
     "text": [
      "Accuracy: 0.9481481481481482\n"
     ]
    },
    {
     "data": {
      "text/plain": [
       "Text(0.5, 15.0, 'Predicted label')"
      ]
     },
     "execution_count": 54,
     "metadata": {},
     "output_type": "execute_result"
    },
    {
     "data": {
      "image/png": "[encoded data removed]",
      "text/plain": [
       "<Figure size 432x288 with 2 Axes>"
      ]
     },
     "metadata": {
      "needs_background": "light"
     },
     "output_type": "display_data"
    }
   ],
   "source": [
    "y_pred=knn_best.predict(X_test)\n",
    "\n",
    "print(\"Accuracy:\",accuracy_score(y_test, y_pred))\n",
    "\n",
    "cf_Matrix = confusion_matrix(y_test, y_pred)\n",
    "\n",
    "sns.heatmap(cf_Matrix, annot=True, xticklabels = ['malignant', 'benign'], yticklabels = ['malignant' ,'benign'])\n",
    "plt.ylabel('True label')\n",
    "plt.xlabel('Predicted label')"
   ]
  },
  {
   "cell_type": "markdown",
   "id": "2b3f0545",
   "metadata": {},
   "source": [
    "## Artificial Neural Networks"
   ]
  },
  {
   "cell_type": "code",
   "execution_count": 97,
   "id": "337e2684",
   "metadata": {},
   "outputs": [],
   "source": [
    "from keras.models import Sequential\n",
    "from keras.layers import Dense\n",
    "from keras.metrics import Recall"
   ]
  },
  {
   "cell_type": "code",
   "execution_count": 79,
   "id": "18e7f619",
   "metadata": {},
   "outputs": [],
   "source": [
    "model = Sequential()\n",
    "model.add(Dense(500, activation='relu', input_dim = len(X_train.columns)))\n",
    "model.add(Dense(100, activation='relu'))\n",
    "model.add(Dense(50, activation='relu'))\n",
    "model.add(Dense(1, activation='sigmoid'))"
   ]
  },
  {
   "cell_type": "code",
   "execution_count": 98,
   "id": "3afeed5a",
   "metadata": {},
   "outputs": [],
   "source": [
    "model.compile(optimizer='adam', \n",
    "              loss='binary_crossentropy', \n",
    "              metrics=['accuracy',Recall(name = 'recall')])"
   ]
  },
  {
   "cell_type": "code",
   "execution_count": 99,
   "id": "eced8508",
   "metadata": {
    "scrolled": true
   },
   "outputs": [
    {
     "name": "stdout",
     "output_type": "stream",
     "text": [
      "Epoch 1/20\n",
      "15/15 [==============================] - 1s 3ms/step - loss: 0.0051 - accuracy: 1.0000 - recall: 1.0000\n",
      "Epoch 2/20\n",
      "15/15 [==============================] - 0s 2ms/step - loss: 0.0064 - accuracy: 0.9978 - recall: 1.0000\n",
      "Epoch 3/20\n",
      "15/15 [==============================] - 0s 2ms/step - loss: 0.0017 - accuracy: 1.0000 - recall: 1.0000\n",
      "Epoch 4/20\n",
      "15/15 [==============================] - 0s 2ms/step - loss: 0.0010 - accuracy: 1.0000 - recall: 1.0000\n",
      "Epoch 5/20\n",
      "15/15 [==============================] - 0s 2ms/step - loss: 4.8552e-04 - accuracy: 1.0000 - recall: 1.0000\n",
      "Epoch 6/20\n",
      "15/15 [==============================] - 0s 2ms/step - loss: 4.2872e-04 - accuracy: 1.0000 - recall: 1.0000\n",
      "Epoch 7/20\n",
      "15/15 [==============================] - 0s 2ms/step - loss: 3.4233e-04 - accuracy: 1.0000 - recall: 1.0000\n",
      "Epoch 8/20\n",
      "15/15 [==============================] - 0s 2ms/step - loss: 2.8908e-04 - accuracy: 1.0000 - recall: 1.0000\n",
      "Epoch 9/20\n",
      "15/15 [==============================] - 0s 2ms/step - loss: 2.5257e-04 - accuracy: 1.0000 - recall: 1.0000\n",
      "Epoch 10/20\n",
      "15/15 [==============================] - 0s 2ms/step - loss: 2.1869e-04 - accuracy: 1.0000 - recall: 1.0000\n",
      "Epoch 11/20\n",
      "15/15 [==============================] - 0s 2ms/step - loss: 2.0452e-04 - accuracy: 1.0000 - recall: 1.0000\n",
      "Epoch 12/20\n",
      "15/15 [==============================] - 0s 2ms/step - loss: 1.7942e-04 - accuracy: 1.0000 - recall: 1.0000\n",
      "Epoch 13/20\n",
      "15/15 [==============================] - 0s 2ms/step - loss: 1.6750e-04 - accuracy: 1.0000 - recall: 1.0000\n",
      "Epoch 14/20\n",
      "15/15 [==============================] - 0s 2ms/step - loss: 1.5008e-04 - accuracy: 1.0000 - recall: 1.0000\n",
      "Epoch 15/20\n",
      "15/15 [==============================] - 0s 2ms/step - loss: 1.3381e-04 - accuracy: 1.0000 - recall: 1.0000\n",
      "Epoch 16/20\n",
      "15/15 [==============================] - 0s 2ms/step - loss: 1.1389e-04 - accuracy: 1.0000 - recall: 1.0000\n",
      "Epoch 17/20\n",
      "15/15 [==============================] - 0s 2ms/step - loss: 1.0435e-04 - accuracy: 1.0000 - recall: 1.0000\n",
      "Epoch 18/20\n",
      "15/15 [==============================] - 0s 2ms/step - loss: 9.7652e-05 - accuracy: 1.0000 - recall: 1.0000\n",
      "Epoch 19/20\n",
      "15/15 [==============================] - 0s 2ms/step - loss: 8.9099e-05 - accuracy: 1.0000 - recall: 1.0000\n",
      "Epoch 20/20\n",
      "15/15 [==============================] - 0s 2ms/step - loss: 8.1148e-05 - accuracy: 1.0000 - recall: 1.0000\n"
     ]
    },
    {
     "data": {
      "text/plain": [
       "<keras.callbacks.History at 0x235d95c2550>"
      ]
     },
     "execution_count": 99,
     "metadata": {},
     "output_type": "execute_result"
    }
   ],
   "source": [
    "model.fit(X_train, y_train, epochs=20)"
   ]
  },
  {
   "cell_type": "markdown",
   "id": "2da7178e",
   "metadata": {},
   "source": [
    "### Metrics"
   ]
  },
  {
   "cell_type": "code",
   "execution_count": 100,
   "id": "993549a3",
   "metadata": {},
   "outputs": [
    {
     "name": "stdout",
     "output_type": "stream",
     "text": [
      "Accuracy: 0.9851851851851852\n"
     ]
    },
    {
     "data": {
      "text/plain": [
       "Text(0.5, 15.0, 'Predicted label')"
      ]
     },
     "execution_count": 100,
     "metadata": {},
     "output_type": "execute_result"
    },
    {
     "data": {
      "image/png": "[encoded data removed]",
      "text/plain": [
       "<Figure size 432x288 with 2 Axes>"
      ]
     },
     "metadata": {
      "needs_background": "light"
     },
     "output_type": "display_data"
    }
   ],
   "source": [
    "y_pred=model.predict(X_test)\n",
    "y_pred = y_pred.reshape(-1)\n",
    "y_pred[y_pred <= 0.5] = 0\n",
    "y_pred[y_pred > 0.5] = 1\n",
    "\n",
    "print(\"Accuracy:\",accuracy_score(y_test, y_pred))\n",
    "\n",
    "cf_Matrix = confusion_matrix(y_test, y_pred)\n",
    "\n",
    "sns.heatmap(cf_Matrix, annot=True, xticklabels = ['malignant', 'benign'], yticklabels = ['malignant' ,'benign'])\n",
    "plt.ylabel('True label')\n",
    "plt.xlabel('Predicted label')"
   ]
  },
  {
   "cell_type": "code",
   "execution_count": null,
   "id": "89cf8669",
   "metadata": {},
   "outputs": [],
   "source": []
  }
 ],
 "metadata": {
  "kernelspec": {
   "display_name": "Python 3",
   "language": "python",
   "name": "python3"
  },
  "language_info": {
   "codemirror_mode": {
    "name": "ipython",
    "version": 3
   },
   "file_extension": ".py",
   "mimetype": "text/x-python",
   "name": "python",
   "nbconvert_exporter": "python",
   "pygments_lexer": "ipython3",
   "version": "3.8.8"
  }
 },
 "nbformat": 4,
 "nbformat_minor": 5
}
